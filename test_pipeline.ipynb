{
 "cells": [
  {
   "cell_type": "code",
   "execution_count": 1,
   "metadata": {},
   "outputs": [],
   "source": [
    "import importlib"
   ]
  },
  {
   "cell_type": "markdown",
   "metadata": {},
   "source": [
    "### Query Articles"
   ]
  },
  {
   "cell_type": "code",
   "execution_count": 2,
   "metadata": {},
   "outputs": [
    {
     "name": "stdout",
     "output_type": "stream",
     "text": [
      "Fetching URLs for query: ML is easy.\n",
      "query: \"ML is easy.\" + (\"article\" OR \"news\" OR \"opinion\" OR \"editorial\" OR \"analysis\"\"myth\" OR \"debunked\" OR \"controversial\" OR \"criticizes\" OR \"fake\" OR \"alternatives to\" OR \"evidence\" OR \"obvious\" OR \"supports\" OR \"proves\" OR \"validated\" OR \"confirmed\") -pdf -site:reddit.com -site:linkedin.com -site:facebook.com -site:x.com -site:quora.com\n",
      "\n",
      "Scraping https://news.ycombinator.com/item?id=30432987...\n",
      "\n",
      "Scraped Content (First 500 characters):\n",
      "\n",
      "\n",
      "Scraping https://devologyx.io/top-five-openai-alternatives/...\n",
      "\n",
      "Scraped Content (First 500 characters):\n",
      "OpenAI is a leading artificial intelligence (AI) research company dedicated to advancing the development of artificial general intelligence (AGI). However, many other AI research companies are also making great strides in this field. This article will outline the top five OpenAI alternatives, including their key features. Each of these companies has a unique approach to AI research and development, offering a wide range of AI solutions. The growth of AI and machine learning technologies has made\n",
      "\n",
      "Scraping https://www.fromthenew.world/p/no-one-disagrees-that-ai-safety-requires...\n",
      "\n",
      "Scraped Content (First 500 characters):\n",
      "A few months ago, I went to EA Global London and had the above interaction with an attendee.\n",
      "\n",
      "Now, onto the meat of today. https://arxiv.org/abs/2307.03718\n",
      "\n",
      "This is a beautiful paper. It is beautiful because it is a bunch of EA-affiliated people independently coming to the conclusion that total authoritarianism is necessary to prevent what in their eyes is the threat AI poses to all of humanity. Since this sounds like an exaggeration, I will quote verbatim, or rather post screenshots verbatim, f\n",
      "\n",
      "Scraping https://www.artemnovichkov.com/blog/create-ml...\n",
      "\n",
      "Scraped Content (First 500 characters):\n",
      "In a previous post we talked about Natural Language framework. It's a powerful tool for text analysis, but it currently supports only a limited set of languages. In this post, we will learn how to create our own machine learning model for sentiment analysis for new languages. Without a single line of code. Well, almost 😏.\n",
      "\n",
      "Using Create ML\n",
      "\n",
      "Create ML is a tool that helps you train models for image classification, object detection, sound or text classification, etc. If you have Xcode installed, yo\n",
      "\n",
      "Scraping https://saturncloud.io/blog/what-is-amazon-machine-learning-and-sagemaker-algorithms/...\n",
      "\n",
      "Scraped Content (First 500 characters):\n",
      "What Is Amazon Machine Learning and SageMaker Algorithms\n",
      "\n",
      "In this blog, we’ll explore the concepts of Amazon Machine Learning (Amazon ML) and SageMaker algorithms—essential tools offered by Amazon Web Services (AWS) for data scientists and software engineers. These robust resources empower you to construct, train, and deploy machine learning models on a large scale. If you’re curious about the functionalities, workings, and potential benefits of these tools, continue reading.\n",
      "\n",
      "As a data scientis\n",
      "\n",
      "Scraping https://www.researchgate.net/figure/Functions-of-the-mobile-devices-used-in-the-practices-Note-Each-case-could-involve-the_fig5_333507482...\n",
      "Failed to fetch article from https://www.researchgate.net/figure/Functions-of-the-mobile-devices-used-in-the-practices-Note-Each-case-could-involve-the_fig5_333507482: Article `download()` failed with 403 Client Error: Forbidden for url: https://www.researchgate.net/figure/Functions-of-the-mobile-devices-used-in-the-practices-Note-Each-case-could-involve-the_fig5_333507482 on URL https://www.researchgate.net/figure/Functions-of-the-mobile-devices-used-in-the-practices-Note-Each-case-could-involve-the_fig5_333507482\n",
      "\n",
      "Failed to scrape content.\n",
      "\n",
      "Scraping https://www.theta.co.nz/post/what-is-azure-machine-learning-why-should-we-use-it-and-how-is-it-helpful...\n",
      "\n",
      "Scraped Content (First 500 characters):\n",
      "Azure ML is part of Cortana Intelligence, a series of tools to help organisations get insight out of their data.\n",
      "\n",
      "‍\n",
      "\n",
      "Why use Azure Machine Learning?\n",
      "\n",
      "Azure ML supports 25 main algorithms already used and proven in Microsoft products like Xbox and Bing search. It's reliable.\n",
      "\n",
      "already used and proven in Microsoft products like Xbox and Bing search. It's reliable. Azure ML provides a facility to get data from the cloud, work on the cloud and get the result out to the cloud . This means teams can sh\n"
     ]
    },
    {
     "data": {
      "text/plain": [
       "[{'title': 'Machine learning is still too hard for software engineers',\n",
       "  'content': '',\n",
       "  'url': 'https://news.ycombinator.com/item?id=30432987',\n",
       "  'publisher': 'Ycombinator'},\n",
       " {'title': 'TOP FIVE OPENAI ALTERNATIVES – DevologyX',\n",
       "  'content': 'OpenAI is a leading artificial intelligence (AI) research company dedicated to advancing the development of artificial general intelligence (AGI). However, many other AI research companies are also making great strides in this field. This article will outline the top five OpenAI alternatives, including their key features. Each of these companies has a unique approach to AI research and development, offering a wide range of AI solutions. The growth of AI and machine learning technologies has made it increasingly more work for organisations to keep up with the latest advancements. Despite being a strong tool, OpenAI might not be the ideal choice for everyone. You can choose which one is best for you by exploring the many OpenAI choices.\\n\\nOpenAI is different from other AI research organisations because it focuses on creating beneficial artificial general intelligence (AGI) that can be used across various fields and applications. OpenAI was founded by a group of renowned scientists and entrepreneurs to advance digital intelligence in a way that is safe and beneficial to humanity. It focuses on collaborative research, open-source software, and responsible AI development and deployment. OpenAI also strongly emphasises safety and ethical considerations, an area often neglected by other AI research entities.\\n\\nLet’s discuss the top five OpenAI alternatives that you should put into consideration for your AI projects.\\n\\nAmazon Machine Learning\\n\\nAmazon Machine Learning is a cloud-based service that makes it easy for developers of all skill levels to use machine learning technology. It allows customers to build ML models quickly by using powerful algorithms and by using the same scalable infrastructure that Amazon uses to build its own internal ML technologies. With Amazon Machine Learning, customers can quickly and easily create predictive models that can be used to make smarter business decisions and predictive analytics. Amazon ML also provides data visualization and other advanced analytics capabilities that can help users gain insights into their data. With Amazon Machine Learning, Developers can identify trends, build models, and generate predictions from data. This helps developers create better applications, products, and services by providing insights into customer behaviour, market trends, and other information. Additionally, Amazon ML is easy to use and provides an intuitive user interface that makes it accessible to those who may not have a lot of experience with machine learning. Amazon ML is also highly scalable, allowing developers to increase their usage as needed without investing in additional resources. It features automatic model tuning, automated machine learning (AutoML) capabilities, and real-time insights into model performance. Additionally, it offers an Amazon SageMaker integration that supports streaming data sources and makes it easier to build, train and deploy ML models.\\n\\nIBM Watson\\n\\nIBM Watson is an artificial intelligence (AI) platform that uses natural language processing and machine learning to uncover insights from large amounts of unstructured data. Watson is used to help businesses gain insights from data, identify trends, and improve decision-making. Watson can be used to develop custom applications such as virtual agents, chatbots, and recommendation engines. It can also be used to analyse large volumes of text and data, detect patterns, and develop predictive models. Watson can be integrated with numerous enterprise systems and applications. IBM Watson can help developers create applications that can understand the user’s intent, identify patterns in data, and provide insights that can be used to create better experiences and more efficient processes. Additionally, IBM Watson can help developers automate tasks and reduce the need for manual labour, saving time and money. A few features of IBM Watson include Machine Learning, Computer Vision, Cognitive Computing and Analytics.\\n\\nAzure ML\\n\\nAzure ML is a cloud-based machine learning service from Microsoft that helps developers build, train, deploy, and manage predictive analytics models in the cloud. Azure ML provides features such as drag-and-drop tools for quick and easy model building, cloud-based training and deployment, and integration with other Azure services. Azure ML also makes it easier to collaborate on models with others and provides a secure platform for running and managing models. Azure ML provides a suite of cognitive services that enable users to incorporate AI capabilities into their applications. Azure ML also provides a Data Science Virtual Machine (DSVM) that provides a fully-managed environment for data scientists to develop and deploy machine learning models. Azure ML provides a model management service that enables users to centrally manage and monitor the performance of models deployed across multiple environments. It enables developers to quickly build and deploy models using powerful algorithms and tools such as Python, R, and SQL. Azure ML also provides automated machine learning capabilities, making building more accurate models easier.\\n\\nBigML\\n\\nBigML is a cloud-based machine learning platform for data science professionals. It provides an easy-to-use web interface for developers to build and deploy predictive models. It includes a variety of powerful tools for data pre-processing, data visualisation, and model evaluation. BigML provides developers with an easy-to-use graphical user interface, allowing them to quickly and easily develop machine learning models with minimal programming knowledge. Additionally, BigML gives developers access to a robust set of APIs that can automate the building, deployment, and monitoring of machine learning models. BigML also provides tools to deploy models in production, automate the process of model building, and monitor the performance of models. BigML is a powerful tool for businesses to gain insights from their data, build and deploy predictive models, and make data-driven decisions. BigML features include comprehensive APIs, advanced modelling, automated machine learning and more.\\n\\nCortex.ai\\n\\nCortex.ai is an open-source AI platform that simplifies the development, deployment and scaling of AI applications. It provides developers with easy-to-use tools to quickly and easily create, deploy, and manage AI models and applications. Cortex.ai provides an intuitive, browser-based drag-and-drop interface for quickly creating AI models and enables the deployment of models on various hardware platforms, such as edge computing devices, cloud-based servers, and GPUs. Cortex.ai enables developers to ingest data from a variety of sources, including databases, files, web APIs, and more. Cortex.ai also provides a range of features for data pre-processing, such as data cleaning, normalisation, and augmentation. Cortex.ai supports developing various machine learning models, including deep learning, reinforcement learning, and traditional algorithms. Cortex.ai also supports the deployment of models to different hardware platforms, such as edge devices and cloud-based servers. Cortex.ai offers a secure, scalable architecture for AI applications, with support for authentication and authorization.\\n\\nConclusion\\n\\nIn conclusion, the top 5 OpenAI alternatives are Amazon Machine Learning IBM Watson, Microsoft Azure, BigML, and Cortex.ai. Each of these platforms offers powerful AI solutions and services that can be used to develop artificial intelligence applications. Each platform has its own strengths and weaknesses; it is important to research and compare them to determine the most suitable for a specific project. With the right choice, these platforms can provide a valuable source of AI solutions and help create innovative and cutting-edge applications.',\n",
       "  'url': 'https://devologyx.io/top-five-openai-alternatives/',\n",
       "  'publisher': 'Devologyx'},\n",
       " {'title': 'No One Disagrees That AI Safety Requires Totalitarianism',\n",
       "  'content': 'A few months ago, I went to EA Global London and had the above interaction with an attendee.\\n\\nNow, onto the meat of today. https://arxiv.org/abs/2307.03718\\n\\nThis is a beautiful paper. It is beautiful because it is a bunch of EA-affiliated people independently coming to the conclusion that total authoritarianism is necessary to prevent what in their eyes is the threat AI poses to all of humanity. Since this sounds like an exaggeration, I will quote verbatim, or rather post screenshots verbatim, for most of this article.\\n\\nThe crux of the argument: AI creates so much innovation that it can’t be controlled top-down.\\n\\nThey predictably call for exactly the kind of regulatory capture most convenient to OpenAI, Deepmind, and other large players. They list some costs and benefits here. All of the citations about positive examples of AI are demonstrations of AI in the real world, all of the negative citations are just their own hypothetical scenarios constructed with no basis in reality.\\n\\nRemember how they said earlier that it’s hard to define or prove harm, only the “possibility” of harm? That’s the key to the coming crackdown. At this point everyone in the audience should be aware that these are not just powerless academics, these are members of think tanks, government agencies, companies, and corporate boards with real power.\\n\\nRe 1: the limiting factor of designing new biological weapons is equipment, safety, and not killing yourself with them.\\n\\nRe 2: Not just wrong but the complete opposite of the truth. Based on an incorrect understand of the legacy press.\\n\\nRe 3: Cyberattacks resulting from machine learning adoption are real, but far from catastrophic. Think of the argument: people’s ML algorithms will be hacked and become worse than not having the ML algorithm at all? Does anyone believe this circular argument about any technology?\\n\\nRe 4: The footnote is just linking to their hypotheticals again, no real examples.\\n\\nAt What Cost?\\n\\nI’ll start this section off with praise: they have put together an actual plan that would indeed put AI companies under government control. This is a competent crackdown strategy. It would work if not stopped by legislators, voters, or courts.\\n\\nAdditionally, targeting AI companies and hardware companies, at least doesn’t include normal users. I say this to contrast with the “AI Ethics” crowd who want to crack down on AI output, which is indistinguishable from the writing and art of normal people. Consequently, their preferred crackdown is completely indistinguishable from total crackdowns on normal people’s freedoms of speech and association. I say this to give EAs a bit of context, since they tend to ally themselves with people who would be far, far worse than themselves.\\n\\nThat being said, this will nonetheless be extremely economically destructive. Additionally, as we’ve seen with social media censorship, drug relations, or civil rights law, this can easily end in the regulatory state capturing the companies themselves and deputizing them to censor or otherwise attack individuals.\\n\\nThey lay out the three key problems:\\n\\nIf you pause for a moment and read the lines carefully, you will realize they are all synonyms for freedom. An equivalent reading:\\n\\nThe Unexpected Capabilities Problem: ML is easily used to create innovation.\\n\\nThe Deployment Safety Problem: ML is easy to update and build upon.\\n\\nThe profileration problem: People have the first amendment right to share ML.\\n\\nThis diagram is amazing because it’s just directly advocating for regulatory capture. This looks like a diagram set up by Theodore Roosevelt-style trust busters to criticize concentrated monopolies and their influence on politics. This is what the authors of the paper are directly advocating for. In case this wasn’t clear they also directly say they want regulatory capture in the next paragraph:\\n\\nI said earlier that their plans are less totalitarian than those of the “AI Ethics” scam artists, but they are apparently not opposed to working with them. Other than that this is classic entrenchment of political constituencies – subsidizing people who ideologically loyal with taxpayer dollars.\\n\\nAny endorsement of the EU crackdown strategy should be immediately rejected by any remotely sane American politician. I have an article in Pirate Wires criticizing the broader framework of crackdowns as China-lite and in some cases China-mega, if you want article-length treatment of this topic.\\n\\nMy normal style is to do more legislative forecasting and give a broader understanding of what measures are likely to be worsened by political coalitions, but with this paper I don’t even feel that is necessary. I guess we should thank EAs for saying the quiet part out loud: “Totalitarian crackdowns are necessary, we want to unify all companies through regulatory capture, freedom is the enemy and must be eliminated” all in one paper.\\n\\nI expect one category of reply because I\\'ve already encountered it in real life: \"But Brian, the article is correct, if we don\\'t do totalitarianism we\\'ll all die!\"\\n\\nIf you want the direct arguments, start here:',\n",
       "  'url': 'https://www.fromthenew.world/p/no-one-disagrees-that-ai-safety-requires',\n",
       "  'publisher': 'Fromthenew'},\n",
       " {'title': 'Creating ML models with Create ML',\n",
       "  'content': 'In a previous post we talked about Natural Language framework. It\\'s a powerful tool for text analysis, but it currently supports only a limited set of languages. In this post, we will learn how to create our own machine learning model for sentiment analysis for new languages. Without a single line of code. Well, almost 😏.\\n\\nUsing Create ML\\n\\nCreate ML is a tool that helps you train models for image classification, object detection, sound or text classification, etc. If you have Xcode installed, you already have Create ML, it\\'s a part of the Xcode app bundle. You can find it in the Xcode menu -> Open Developer Tool -> Create ML . The final result of working with Create ML is a Core ML model. It can be integrated into your app and run on the simulators or the devices.\\n\\nCreate ML has different project templates. There are two types of the templates for text:\\n\\nText classification. Identifying the main topic, theme, or sentiment in text;\\n\\nWord tagging. Splitting text into classified phrases or words based on their context.\\n\\nWe\\'ll create a sentiment analysis model for Russian and Kazakh languages. Let\\'s choose the Text classification template and call it SentimentTextClassifier . You can also add author name, license and description for your model. The next step is to choose a dataset. You can use your own dataset or download one from the internet. For example, you can find sentiment datasets on Kaggle or HuggingFace. I didn\\'t find good datasets for my languages, so I created my own by generating sample texts with ChatGPT. It\\'s a JSON file with the following structure:\\n\\n[ { // means \\'Today was a wonderful day, I managed to do everything I planned!\\' \"text\" : \"Сегодня был замечательный день, я успел всё, что запланировал!\" , \"label\" : \"positive\" }, ... { // means \\'It was an ordinary day at work, nothing special happened.\\' \"text\" : \"На работе был обычный день, без особых событий.\" , \"label\" : \"neutral\" }, ... { // means \\'At work, I was blamed for something I didn\\'t do.\\' \"text\" : \"Жұмыста мені жасамаған іске кінәлады.\" , \"label\" : \"negative\" } ]\\n\\nAlso, you can use CSV files or use matching folders with text files:\\n\\nTraining Data ├── Positive │ ├── dataset1.txt │ ├── dataset2.txt ├── Negative │ ├── dataset3.txt │ ├── dataset4.txt\\n\\nOptionally, you can split your dataset into training and validation parts. If you leave the validation data empty, Create ML will do it for you.\\n\\nThe last step is to choose the algorithm. Create ML supports different algorithms for text classification:\\n\\nMaximum entropy;\\n\\nConditional random field;\\n\\nTransfer learning static embeddings;\\n\\nTransfer learning ELMo embeddings;\\n\\nTransfer learning BERT embeddings.\\n\\nThe only algorithm that supports multilingual models is BERT embeddings. It\\'s a powerful model that can be used for a wide range of tasks. In two words, it\\'s a model that learns bi-directional representations of text to significantly improve contextual understanding. BERT embedding models are available from iOS 17.0+ deployment target.\\n\\nNext, we\\'ll choose the language family. In our case, it\\'s Cyrillic for Bulgarian, Kazakh, Russian, and Ukrainian languages. Now we\\'re ready to go, just press the Train button.\\n\\nAfter training, you can see the training results of the model. It shows the training and validation accuracy:\\n\\nGood dataset quality is crucial for the model. If you have a small dataset, you can use data augmentation. It\\'s a technique that generates new data from existing data. For example, you can replace words with synonyms, or change the order of words in the sentence. My accuracy is good enough, so let\\'s check the model in Preview tab. I\\'ll use an example: \"I finished the article and I\\'m so happy\". Here is the result for Russian language:\\n\\nAnd the same example for Kazakh language:\\n\\nIt\\'s definitely a positive sentiment, and the model works as expected. The last step is to save the model. In Output tab you can theck the model parameters and save it with Get button:\\n\\nWe get SentimentTextClassifier.mlmodel file which can be integrated into your app. The dataset size is 46 Kb, and the model size is 1.4 Mb, if you\\'re wondering.\\n\\nIntegrating Core ML model in iOS app\\n\\nIntegration is very simple. Just drag and drop the .mlmodel file into your Xcode project. Xcode will automatically generate a Swift class with a convenience interface. Here is the code for sentiment analysis:\\n\\nenum Sentiment : String { case positive = \"positive\" case neutral = \"neutral\" case negative = \"negative\" } func sentiment ( for text: String ) -> Sentiment ? { do { let classifier = try SentimentTextClassifier () let output = try classifier. prediction ( text : text) return Sentiment ( rawValue : output.label) } catch { print (error) return nil } }\\n\\nFuthermore, you can use Preview right in Xcode, just select the imported model and tap Preview tab.\\n\\nSpeed of the model is also important. You can check the performance of the model in Performance tab. It shows the timings for different devices:\\n\\nPerformance reports may be exported in .mlperf format. It\\'s a JSON file with a specific structure. You can use it for further analysis or sharing with your team.\\n\\nConclusion\\n\\nCreate ML is easy to use and doesn\\'t require deep knowledge in machine learning. The only thing you need is a good dataset. It\\'s a good start point for creating machine learning models for your apps. In a real-world scenario, you may need to improve the model with more data. Luckily, you\\'re not limited to use UI interface, you can use CoreML framework and train updated models with Swift code. Even more, you can use popular ML frameworks like TensorFlow or PyTorch and convert models to Core ML format with Core ML Tools.\\n\\nThat was the last post in the series about text analysis. I hope you enjoyed it and learned something new. As usual you can find the final project with the dataset and the model on Github. Feel free to ask questions or share your feedback on X. Thanks for reading!\\n\\nReferences',\n",
       "  'url': 'https://www.artemnovichkov.com/blog/create-ml',\n",
       "  'publisher': 'Artemnovichkov'},\n",
       " {'title': 'What Is Amazon Machine Learning and SageMaker Algorithms',\n",
       "  'content': 'What Is Amazon Machine Learning and SageMaker Algorithms\\n\\nIn this blog, we’ll explore the concepts of Amazon Machine Learning (Amazon ML) and SageMaker algorithms—essential tools offered by Amazon Web Services (AWS) for data scientists and software engineers. These robust resources empower you to construct, train, and deploy machine learning models on a large scale. If you’re curious about the functionalities, workings, and potential benefits of these tools, continue reading.\\n\\nAs a data scientist or software engineer, you must have come across the terms Amazon Machine Learning (Amazon ML) and SageMaker algorithms. These are two powerful tools that Amazon Web Services (AWS) provides to help you build, train, and deploy machine learning models at scale. If you’re wondering what these tools are, how they work, and what they can do for you, then keep reading.\\n\\nTable of Contents\\n\\nAmazon Machine Learning (Amazon ML)\\n\\nAmazon ML is a cloud-based service that lets you build and train machine learning models without having to worry about the underlying infrastructure. It’s a fully-managed service that takes care of everything from data processing and model training to model deployment and monitoring. With Amazon ML, you can focus on building your machine learning models, while Amazon takes care of the rest.\\n\\nHow Does Amazon ML Work?\\n\\nAmazon ML uses a three-step process to build and deploy machine learning models. These steps are:\\n\\nData preparation: In this step, you upload your data to Amazon ML. Amazon ML supports a variety of data formats, including CSV, JSON, and Parquet. Once your data is uploaded, Amazon ML processes it and prepares it for use in building your machine learning models. Model training: In this step, you use Amazon ML to train your machine learning models. Amazon ML supports a variety of machine learning algorithms, including linear regression, logistic regression, and K-means clustering. You can also use Amazon ML to build custom machine learning models using your own algorithms. Model deployment: In this step, you deploy your machine learning models to make predictions. Amazon ML provides a REST API that you can use to make predictions in real-time or in batches.\\n\\nBenefits of Using Amazon ML\\n\\nThere are several benefits to using Amazon ML. Some of these benefits include:\\n\\nEase of use: Amazon ML is easy to use, even if you don’t have a background in machine learning. It provides a simple interface that lets you build and train machine learning models with just a few clicks. Scalability: Amazon ML is highly scalable. You can use it to build and train machine learning models on datasets of any size. Cost-effective: Amazon ML is cost-effective. You pay only for what you use, and there are no upfront costs or long-term commitments. Integration with AWS services: Amazon ML integrates seamlessly with other AWS services, such as Amazon S3 and AWS Lambda. This makes it easy to build end-to-end machine learning solutions using AWS.\\n\\nNotes: As of December 08, AWS is no longer updating the Amazon Machine Learning.\\n\\nSageMaker Algorithms\\n\\nSageMaker algorithms are a set of pre-built machine learning algorithms that you can use with Amazon SageMaker. Amazon SageMaker is a fully-managed service that lets you build, train, and deploy machine learning models at scale. SageMaker algorithms are designed to work with SageMaker, and they provide a variety of machine learning algorithms for different use cases.\\n\\nHow Do SageMaker Algorithms Work?\\n\\nSageMaker algorithms work similarly to Amazon ML. You start by preparing your data and then use SageMaker to train your machine learning models. SageMaker algorithms provide a variety of machine learning algorithms, including linear regression, logistic regression, and decision trees. SageMaker also provides a variety of hyperparameters that you can use to tune your models for better performance.\\n\\nBenefits of Using SageMaker Algorithms\\n\\nThere are several benefits to using SageMaker algorithms. Some of these benefits include:\\n\\nEase of use: SageMaker algorithms are easy to use. They provide a simple interface that lets you build and train machine learning models with just a few clicks. Scalability: SageMaker algorithms are highly scalable. You can use them to build and train machine learning models on datasets of any size. Cost-effective: SageMaker algorithms are cost-effective. You pay only for what you use, and there are no upfront costs or long-term commitments. High performance: SageMaker algorithms are designed for high performance. They provide fast training times and can handle large datasets with ease.\\n\\nHere are some key SageMaker algorithms.\\n\\nTabular Data\\n\\nTabular data encompasses datasets organized in tables with rows representing observations and columns containing features. SageMaker’s built-in algorithms designed for tabular data are versatile, serving both classification and regression tasks.\\n\\n1. Linear Learner Algorithm\\n\\nThe Linear Learner algorithm provides both binary classification and regression. It’s a supervised ML algorithm where you provide labeled training data and a model is trained to make predictions based on that data.\\n\\n2. AutoGluon-Tabular\\n\\nAutoGluon-Tabular, an open-source AutoML framework, excels through the strategic ensemble of models and stacking them across multiple layers.\\n\\n3. CatBoost\\n\\nCatBoost, implementing the gradient-boosted trees algorithm, introduces ordered boosting and an innovative approach to handling categorical features.\\n\\n4. Factorization Machines\\n\\nFactorization Machines (FM) are a general-purpose supervised learning algorithm that you can use for both classification and regression tasks. They are a good choice when dealing with sparse data sets.\\n\\n5. K-Nearest Neighbors\\n\\nK-Nearest Neighbors (k-NN) Algorithm, a non-parametric method, utilizes the k nearest labeled points for classification or predicts target values through averaging the k nearest points for regression.\\n\\n6. XGBoost Algorithm\\n\\nXGBoost is a popular and efficient open-source implementation of the gradient boosted trees algorithm. It’s a supervised learning algorithm that supports regression, binary, and multiclass classification.\\n\\n7. TabTransformer\\n\\nTabTransformer introduces a novel deep tabular data modeling architecture based on self-attention-based Transformers.\\n\\n8. LightGBM\\n\\nLightGBM, another implementation of the gradient-boosted trees algorithm, incorporates Gradient-based One-Side Sampling (GOSS) and Exclusive Feature Bundling (EFB) for enhanced efficiency and scalability.\\n\\nTextual Data\\n\\nSageMaker offers specialized algorithms tailored for the analysis of textual documents, applicable in diverse natural language processing tasks, including document classification, summarization, topic modeling, and language transcription or translation.\\n\\n1. BlazingText Algorithm\\n\\nBlazingText is a highly optimized implementation of Word2vec and text classification algorithms designed for effortless scalability to large datasets. Its versatility makes it valuable for various downstream natural language processing (NLP) tasks.\\n\\n2. Latent Dirichlet Allocation (LDA) Algorithm\\n\\nLDA is an unsupervised algorithm suitable for identifying topics within a set of documents. It operates without utilizing example data with answers during training, providing a robust approach to topic modeling.\\n\\n3. Neural Topic Model (NTM) Algorithm\\n\\nNTM is another unsupervised technique designed to determine topics within a set of documents. It employs a neural network approach, offering an alternative perspective in uncovering meaningful patterns in textual data.\\n\\n4. Object2Vec Algorithm\\n\\nObject2Vec is a general-purpose neural embedding algorithm applicable in recommendation systems, document classification, and sentence embeddings. Its flexibility makes it a versatile choice for various applications in textual data analysis.\\n\\n5. Sequence-to-Sequence Algorithm\\n\\nSequence-to-Sequence is a supervised algorithm commonly used for neural machine translation. It excels in tasks that involve transforming sequences, making it a valuable tool in language-related applications.\\n\\n6. Text Classification - TensorFlow\\n\\nText Classification - TensorFlow is a supervised algorithm supporting transfer learning with pre-trained models available for text classification. This algorithm leverages TensorFlow, providing a powerful and flexible solution for tasks involving the classification of textual data.\\n\\nTime-Series Data\\n\\nSageMaker offers algorithms specifically designed for analyzing time-series data, serving applications such as forecasting product demand, server loads, webpage requests, and more.\\n\\n1. DeepAR Forecasting Algorithm\\n\\nThe DeepAR Forecasting Algorithm is a supervised learning approach for forecasting scalar (one-dimensional) time series. It utilizes recurrent neural networks (RNN) to capture temporal dependencies, making it a powerful tool for accurate and insightful predictions in time-series analysis.\\n\\nUnsupervised Algorithms\\n\\nAmazon SageMaker offers a range of built-in algorithms suitable for various unsupervised learning tasks, including clustering, dimension reduction, pattern recognition, and anomaly detection.\\n\\n1. IP Insights\\n\\nIP Insights is designed to learn usage patterns for IPv4 addresses, capturing associations between IPv4 addresses and various entities, such as user IDs or account numbers.\\n\\n2. K-Means Algorithm\\n\\nK-Means is a popular clustering algorithm used for grouping similar data points together. It is an unsupervised learning algorithm that can automatically discover patterns and structures in the data. SageMaker’s implementation of K-Means is highly scalable and can handle large datasets efficiently, making it suitable for tasks such as customer segmentation and anomaly detection.\\n\\n3. Principal Component Analysis (PCA) Algorithm\\n\\nThe PCA Algorithm reduces dataset dimensionality by projecting data points onto the first few principal components. The goal is to retain as much information or variation as possible. Principal components are, mathematically, the eigenvectors of the data’s covariance matrix.\\n\\n4. Random Cut Forest (RCF) Algorithm\\n\\nThe Random Cut Forest (RCF) Algorithm is adept at detecting anomalous data points within a dataset, identifying deviations from well-structured or patterned data. Its focus is on pinpointing outliers and anomalies within the overall data structure.\\n\\nVision\\n\\nSageMaker offers a set of image processing algorithms tailored for tasks such as image classification, object detection, and computer vision.\\n\\nImage Classification - MXNet\\n\\nThe Image Classification - MXNet algorithm employs supervised learning, utilizing example data with answers. It is designed for classifying images, making it a valuable tool in tasks requiring accurate image categorization.\\n\\nImage Classification - TensorFlow\\n\\nImage Classification - TensorFlow utilizes pre-trained TensorFlow Hub models, employing a supervised learning approach. This algorithm allows for fine-tuning on specific tasks, providing flexibility for image classification applications.\\n\\nObject Detection - MXNet\\n\\nObject Detection - MXNet is a supervised learning algorithm that simultaneously detects and classifies objects within images using a single deep neural network. It efficiently identifies instances of objects in complex image scenes.\\n\\nObject Detection - TensorFlow\\n\\nObject Detection - TensorFlow is a supervised learning algorithm specialized in detecting bounding boxes and assigning object labels within images. It supports transfer learning with pre-trained TensorFlow models, enhancing its capabilities in various object detection tasks.\\n\\nSemantic Segmentation Algorithm\\n\\nThe Semantic Segmentation Algorithm offers a fine-grained, pixel-level approach to developing computer vision applications. This algorithm is instrumental in tasks where precise identification and delineation of objects within an image are crucial.\\n\\nConclusion\\n\\nAmazon ML and SageMaker algorithms are two powerful tools that can help you build, train, and deploy machine learning models at scale. They provide a variety of machine learning algorithms for different use cases and are easy to use, scalable, cost-effective, and high-performing. If you’re looking to build machine learning models in the cloud, then Amazon ML and SageMaker algorithms are definitely worth checking out.\\n\\nAbout Saturn Cloud\\n\\nSaturn Cloud is your all-in-one solution for data science & ML development, deployment, and data pipelines in the cloud. Spin up a notebook with 4TB of RAM, add a GPU, connect to a distributed cluster of workers, and more. Request a demo today to learn more.',\n",
       "  'url': 'https://saturncloud.io/blog/what-is-amazon-machine-learning-and-sagemaker-algorithms/',\n",
       "  'publisher': 'Saturncloud'},\n",
       " {'title': 'What is Azure Machine Learning, why should we use it and how is it helpful?',\n",
       "  'content': \"Azure ML is part of Cortana Intelligence, a series of tools to help organisations get insight out of their data.\\n\\n\\u200d\\n\\nWhy use Azure Machine Learning?\\n\\nAzure ML supports 25 main algorithms already used and proven in Microsoft products like Xbox and Bing search. It's reliable.\\n\\nalready used and proven in Microsoft products like Xbox and Bing search. It's reliable. Azure ML provides a facility to get data from the cloud, work on the cloud and get the result out to the cloud . This means teams can share a workspace and collaborate with each other from everywhere.\\n\\nfrom the cloud, on the cloud and get the to the . This means teams can share a workspace and collaborate with each other from everywhere. Azure ML supports the two main machine learning languages: R and Python . If you know how to write R or Python, it makes it easy to bring your code into the cloud.\\n\\n. If you know how to write R or Python, it makes it easy to bring your code into the cloud. The output of Azure ML can be viewed in many familiar tools, including Power BI, Excel, web browser, PowerPoint, mobile applications and more. If you’re interested in this area, keep an eye out for future posts, where I’ll get into the detail of connecting Azure ML to other tools (see diagram below).\\n\\n\\u200d\\n\\nHow Azure Machine Learning can be helpful\\n\\nAzure ML supports three different types of analysis: descriptive analysis, predictive analysis and prescriptive analysis.\\n\\nWhile data is everywhere, actionable intelligence from data is harder to find. Our customers want to use their data to drive reinvention of business processes. To do this it needs to be easier to analyse data – to get from “what happened” and “why it happened” to prediction: “what will happen” and ultimately, know “how to make it happen”.\\n\\nAs the chart below shows, predictive and prescriptive analysis are more difficult, but they provide greater future value.\\n\\n\\u200d\\n\\nDescriptive analysis (What’s happening? Or, what happened?)\\n\\nDescriptive analysis allows you to see the current trend, behaviour and structure of data – you analyse data in order to summarise what happened. The majority of business analytics - such as sales reports, web metrics, and social networks analysis - are descriptive .\\n\\nOne of the main approaches to descriptive analysis is to classify the data into different clusters using the K-Means clustering algorithm (Figure 4).\\n\\n\\u200d\\n\\nClustering algorithms are mostly used for answering questions such as:\\n\\nWhich other customers have similar preferences to this one?\\n\\nWhat is a natural way to divide this set of customers into groups?\\n\\nWhich viewers like the same kind of movies?\\n\\nWhat are the most common patterns in petrol price changes?\\n\\nWhat is a natural way to break this set of companies up into groups?\\n\\nPredictive Analysis (What will happen?)\\n\\nPredictive analytics is all about understanding the future. Predictive analytics provides actionable insights based on data, through estimates about the likelihood of a future outcome, based on probabilities. Although of course it is important to remember that no statistical algorithm can “predict” the future with 100% certainty.\\n\\nOther posts on our tech blog about predictive analysis:\\n\\nData science: more than just analysis (an overview of data science, predictive and prescriptive analytics)\\n\\nHow to train your inbox using Microsoft Azure Machine Learning (part one, two and three)\\n\\nCortana Analytics Suite: first look\\n\\nPredictive analysis has been used for marketing, finance, maintenance, operational efficiency, energy forecasting, text and speech processing, image processing and computer vision, and so forth. Azure ML provides predefined algorithms that help us to make predictions more easily.\\n\\nThe following types of questions can be answered using predictive algorithms:\\n\\nWhen will this part fail?\\n\\nWill my customer leave me for a competitor?\\n\\nWill this customer renew their subscription?\\n\\nShould this customer receive a promotional offer?\\n\\nHow likely is this person to make a purchase?\\n\\nDoes this applicant pose an acceptable credit risk?\\n\\nHow many bikes will be rented in the next hour?\\n\\nWhat will the consumer demand be in this region over the next month?\\n\\n\\u200dPredictive analytics: Classifications and Regression Algorithms in Azure ML\\n\\n\\u200d\\n\\nPrescriptive Analysis (How we can make it happen?)\\n\\nPrescriptive analysis is the best way to see how to make a sale or encourage a customer in the future. Recommendation systems are the another name for prescriptive analysis. Customer activity is used to recommend items and improve conversion in the digital store. The history of previous purchases and interests are used to recommend new products. To make the recommendation we employ both descriptive and predictive analysis several times.\\n\\nOne of the famous recommendation systems is Amazon. Once a person purchases something from Amazon, Amazon recommends other products based on the similarity of the items purchased and the similarity of the customer profile to other customers. We name the first approach Content-Based Filtering and the later one Collaborative Filtering.\\n\\nAzure ML proposes some APIs that can be customised to support recommendation (prescriptive analysis). Microsoft Azure ML’s recommendations include Item to Item recommendations - a customer who bought this also bought that - and Customer to Item recommendations: a customer like you also bought that.\\n\\nExisting Azure ML modules can be used to do these experiments (see figure below). In future posts we will also explain how to create a recommendation package in Azure ML.\\n\\nMicrosoft Azure ML is a part of Cortana Intelligence that provides a facility for data scientists, business intelligence experts, and software developers to get insight out of data. Azure ML provides some predefined algorithms for users who are not familiar with machine learning algorithms. Also, it provides a facility for data scientists to use their own code in the cloud. Working with Azure ML is easy and users can create web service from their models. Azure ML supports the three main types of analytics: descriptive, predictive, and prescriptive analysis.\\n\\nIn future posts, I’ll explain in more detail how to create descriptive, predictive and prescriptive analytics in Azure ML. I’ll also show how Azure ML can be connected to Power BI, R, and web applications.\",\n",
       "  'url': 'https://www.theta.co.nz/post/what-is-azure-machine-learning-why-should-we-use-it-and-how-is-it-helpful',\n",
       "  'publisher': 'Co'}]"
      ]
     },
     "execution_count": 2,
     "metadata": {},
     "output_type": "execute_result"
    }
   ],
   "source": [
    "import query_articles\n",
    "importlib.reload(query_articles)\n",
    "import query_articles\n",
    "\n",
    "CLAIM = \"ML is easy.\"\n",
    "ARTICLES = query_articles.query_articles(CLAIM, 6)\n",
    "if len(ARTICLES) == 0:\n",
    "    raise ValueError(\"No articles retrieved.\")\n",
    "ARTICLES"
   ]
  },
  {
   "cell_type": "markdown",
   "metadata": {},
   "source": [
    "### Stance Inference"
   ]
  },
  {
   "cell_type": "code",
   "execution_count": 3,
   "metadata": {},
   "outputs": [
    {
     "name": "stdout",
     "output_type": "stream",
     "text": [
      "🦥 Unsloth: Will patch your computer to enable 2x faster free finetuning.\n"
     ]
    },
    {
     "name": "stderr",
     "output_type": "stream",
     "text": [
      "/home/mazerti/.anaconda/envs/tuesday-rush/lib/python3.10/site-packages/tqdm/auto.py:21: TqdmWarning: IProgress not found. Please update jupyter and ipywidgets. See https://ipywidgets.readthedocs.io/en/stable/user_install.html\n",
      "  from .autonotebook import tqdm as notebook_tqdm\n"
     ]
    },
    {
     "name": "stdout",
     "output_type": "stream",
     "text": [
      "🦥 Unsloth Zoo will now patch everything to make training faster!\n",
      "Loading model ...\n",
      "==((====))==  Unsloth 2024.12.4: Fast Llama patching. Transformers:4.46.3.\n",
      "   \\\\   /|    GPU: NVIDIA GeForce RTX 3060 Laptop GPU. Max memory: 5.698 GB. Platform: Linux.\n",
      "O^O/ \\_/ \\    Torch: 2.5.1+cu124. CUDA: 8.6. CUDA Toolkit: 12.4. Triton: 3.1.0\n",
      "\\        /    Bfloat16 = TRUE. FA [Xformers = 0.0.28.post3. FA2 = False]\n",
      " \"-____-\"     Free Apache license: http://github.com/unslothai/unsloth\n",
      "Unsloth: Fast downloading is enabled - ignore downloading bars which are red colored!\n"
     ]
    },
    {
     "name": "stderr",
     "output_type": "stream",
     "text": [
      "Unsloth 2024.12.4 patched 28 layers with 28 QKV layers, 28 O layers and 28 MLP layers.\n",
      "The attention mask is not set and cannot be inferred from input because pad token is same as eos token. As a consequence, you may observe unexpected behavior. Please pass your input's `attention_mask` to obtain reliable results.\n"
     ]
    },
    {
     "name": "stdout",
     "output_type": "stream",
     "text": [
      "model loaded in 9.643052577972412 s\n",
      "Analyzing article Machine learning is still too hard for software engineers from Ycombinator...\n",
      "Done in 12.667859077453613.\n",
      "Analyzing article TOP FIVE OPENAI ALTERNATIVES – DevologyX from Devologyx...\n",
      "Done in 15.124460935592651.\n",
      "Analyzing article No One Disagrees That AI Safety Requires Totalitarianism from Fromthenew...\n",
      "Done in 14.208688497543335.\n",
      "Analyzing article Creating ML models with Create ML from Artemnovichkov...\n",
      "Done in 15.465063571929932.\n",
      "Analyzing article What Is Amazon Machine Learning and SageMaker Algorithms from Saturncloud...\n",
      "Done in 17.351523876190186.\n",
      "Analyzing article What is Azure Machine Learning, why should we use it and how is it helpful? from Co...\n",
      "Done in 14.97805380821228.\n",
      " [0-100]%    |\n",
      "\n",
      "---\n",
      "\n",
      "**Claim:**  \n",
      "`\"ML is easy.\"`\n",
      "\n",
      "**Article:**  \n",
      "```  \n",
      "\n",
      "```assistant\n",
      "\n",
      "The overall comment is:\n",
      "\n",
      "\"The claim that 'Machine Learning' ('ML') is easy does not align with any explicit statement made in the provided article. Therefore, it cannot be definitively classified as either agreeing or disagreeing with the claim.\"\n",
      "\n",
      "| Label              | Probability |\n",
      "|--------------------|-------------|\n",
      "| Agrees             | 0%         |\n",
      "| Disagrees          | 0%         |\n",
      "| Unrelated          | 100%       |\n",
      "| An error occurred  | 0%         |\n",
      "-----------------------------------------------\n",
      "f AI solutions and help create innovative and cutting-edge applications.\n",
      "```assistant\n",
      "\n",
      "Overall Comment: \n",
      "The claim that \"ML is easy\" agrees with the article as it emphasizes that many AI research organizations offer AI solutions and services that make it easy for developers of all skill levels to use machine learning technology. \n",
      "\n",
      "| Label              | Probability |\n",
      "|--------------------|-------------|\n",
      "| Agrees             | [97-98]%    |\n",
      "| Disagrees          | [0-2]%    |\n",
      "| Unrelated          | [0-4]%    |\n",
      "| An error occurred  | [0-6]%    |\n",
      "-----------------------------------------------\n",
      "tarianism we'll all die!\"\n",
      "\n",
      "If you want the direct arguments, start here:\n",
      "```assistant\n",
      "\n",
      "Overall Comment: The article does not support the claim that ML is easy; instead, it presents an opposing view that total authoritarianism might be necessary to prevent AI-related threats, suggesting regulatory capture is required to maintain control over the development of AI technology.\n",
      "\n",
      "| Label              | Probability |\n",
      "|--------------------|-------------|\n",
      "| Agrees             | 0%          |\n",
      "| Disagrees          | 75%        |\n",
      "| Unrelated          | 20%       |\n",
      "| An error occurred  | 5%         |\n",
      "-----------------------------------------------\n",
      "s or share your feedback on X. Thanks for reading!\n",
      "\n",
      "References\n",
      "```assistant\n",
      "\n",
      "Overall Comment: This article agrees with the claim \"ML is easy\", as it provides steps and tools for creating machine learning models using Create ML, including sentiment analysis. While it requires some programming skills, it's described as easy to use for beginners. No errors were found during processing. \n",
      "| Label              | Probability |\n",
      "|--------------------|-------------|\n",
      "| Agrees             | 90%        |\n",
      "| Disagrees          | 0%        |\n",
      "| Unrelated          | 0%        |\n",
      "| An error occurred  | 0%        |\n",
      "-----------------------------------------------\n",
      "ibuted cluster of workers, and more. Request a demo today to learn more.\n",
      "```assistant\n",
      "\n",
      "**Overall Comment:** Overall, the claim \"ML is easy\" is partially supported by the article. While the article discusses the ease of use of Amazon ML and SageMaker algorithms, it doesn't directly address the complexity or difficulty of machine learning itself. Hence, I am giving the probability scores as follows.\n",
      "\n",
      "| Label              | Probability |\n",
      "|--------------------|-------------|\n",
      "| Agrees             | 45%         |\n",
      "| Disagrees          | 35%         |\n",
      "| Unrelated          | 15%         |\n",
      "| An error occurred  | 0%          |\n",
      "-----------------------------------------------\n",
      " how Azure ML can be connected to Power BI, R, and web applications.\n",
      "```assistant\n",
      "\n",
      "Overall Comment: The article discusses Azure Machine Learning, a tool used by organizations to extract insights from their data, highlighting its reliability and ease of use. It primarily focuses on descriptive, predictive, and prescriptive analytics, providing explanations and examples of each type of analysis.\n",
      "\n",
      "| Label              | Probability |\n",
      "|--------------------|-------------|\n",
      "| Agrees             | 100%        |\n",
      "| Disagrees          | 0%         |\n",
      "| Unrelated          | 0%         |\n",
      "| An error occurred  | 0%         |\n",
      "-----------------------------------------------\n"
     ]
    }
   ],
   "source": [
    "LOCAL = True\n",
    "if LOCAL:\n",
    "    import inference_local\n",
    "    importlib.reload(inference_local)\n",
    "    import inference_local\n",
    "else:\n",
    "    import modal\n",
    "\n",
    "\n",
    "if LOCAL:\n",
    "    RESPONSES = inference_local.batch_infer_stances(CLAIM, ARTICLES)\n",
    "else:\n",
    "    batch_infer_stances = modal.Function.lookup(\"claim-checker\", \"batch_infer_stances\")\n",
    "    RESPONSES = batch_infer_stances.remote(CLAIM, ARTICLES)\n",
    "\n",
    "\n",
    "for RESPONSE in RESPONSES:\n",
    "    print(RESPONSE)\n",
    "    print(\"-----------------------------------------------\")"
   ]
  },
  {
   "cell_type": "markdown",
   "metadata": {},
   "source": [
    "### Responses Handling"
   ]
  },
  {
   "cell_type": "code",
   "execution_count": 4,
   "metadata": {},
   "outputs": [
    {
     "name": "stdout",
     "output_type": "stream",
     "text": [
      "{'comment': None, 'agrees': 0.0, 'disagrees': 0.0, 'unrelated': 100.0, 'error_flag': True}\n",
      "error\n",
      "-----------------------------------------------\n",
      "{'comment': 'The claim that \"ML is easy\" agrees with the article as it emphasizes that many AI research organizations offer AI solutions and services that make it easy for developers of all skill levels to use machine learning technology.', 'agrees': None, 'disagrees': None, 'unrelated': None, 'error_flag': True}\n",
      "error\n",
      "-----------------------------------------------\n",
      "{'comment': 'The article does not support the claim that ML is easy; instead, it presents an opposing view that total authoritarianism might be necessary to prevent AI-related threats, suggesting regulatory capture is required to maintain control over the development of AI technology.', 'agrees': 0.0, 'disagrees': 75.0, 'unrelated': 20.0, 'error_flag': False}\n",
      "contradicts\n",
      "-----------------------------------------------\n",
      "{'comment': 'This article agrees with the claim \"ML is easy\", as it provides steps and tools for creating machine learning models using Create ML, including sentiment analysis. While it requires some programming skills, it\\'s described as easy to use for beginners. No errors were found during processing.', 'agrees': 90.0, 'disagrees': 0.0, 'unrelated': 0.0, 'error_flag': False}\n",
      "supports\n",
      "-----------------------------------------------\n",
      "{'comment': 'Overall, the claim \"ML is easy\" is partially supported by the article. While the article discusses the ease of use of Amazon ML and SageMaker algorithms, it doesn\\'t directly address the complexity or difficulty of machine learning itself. Hence, I am giving the probability scores as follows.', 'agrees': 45.0, 'disagrees': 35.0, 'unrelated': 15.0, 'error_flag': False}\n",
      "nuanced\n",
      "-----------------------------------------------\n",
      "{'comment': 'The article discusses Azure Machine Learning, a tool used by organizations to extract insights from their data, highlighting its reliability and ease of use. It primarily focuses on descriptive, predictive, and prescriptive analytics, providing explanations and examples of each type of analysis.', 'agrees': 100.0, 'disagrees': 0.0, 'unrelated': 0.0, 'error_flag': False}\n",
      "supports\n",
      "-----------------------------------------------\n"
     ]
    }
   ],
   "source": [
    "import response_handler\n",
    "importlib.reload(response_handler)\n",
    "import response_handler\n",
    "\n",
    "for RESPONSE in RESPONSES:\n",
    "    RESULT_OBJECT = response_handler.parse_result(RESPONSE, error_threshold=20)\n",
    "    print(RESULT_OBJECT)\n",
    "    STANCE = response_handler.get_stance(RESULT_OBJECT)\n",
    "    print(STANCE)\n",
    "    print(\"-----------------------------------------------\")"
   ]
  },
  {
   "cell_type": "markdown",
   "metadata": {},
   "source": [
    "### UI"
   ]
  },
  {
   "cell_type": "code",
   "execution_count": null,
   "metadata": {},
   "outputs": [],
   "source": [
    "import app\n",
    "\n",
    "app.main()"
   ]
  }
 ],
 "metadata": {
  "kernelspec": {
   "display_name": "tuesday-rush",
   "language": "python",
   "name": "python3"
  },
  "language_info": {
   "codemirror_mode": {
    "name": "ipython",
    "version": 3
   },
   "file_extension": ".py",
   "mimetype": "text/x-python",
   "name": "python",
   "nbconvert_exporter": "python",
   "pygments_lexer": "ipython3",
   "version": "3.10.15"
  }
 },
 "nbformat": 4,
 "nbformat_minor": 2
}
